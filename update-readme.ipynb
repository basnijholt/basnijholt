{
 "cells": [
  {
   "cell_type": "markdown",
   "metadata": {},
   "source": [
    "# Notebook that generates my README"
   ]
  },
  {
   "cell_type": "code",
   "execution_count": null,
   "metadata": {},
   "outputs": [],
   "source": [
    "from collections import Counter\n",
    "from datetime import datetime\n",
    "\n",
    "import jinja2\n",
    "import matplotlib.pyplot as plt\n",
    "import mplcyberpunk\n",
    "\n",
    "import generate_data as gd\n",
    "\n",
    "plt.style.use(\"cyberpunk\")"
   ]
  },
  {
   "cell_type": "code",
   "execution_count": null,
   "metadata": {},
   "outputs": [],
   "source": [
    "_ = await gd.generate_data()"
   ]
  },
  {
   "cell_type": "code",
   "execution_count": null,
   "metadata": {},
   "outputs": [],
   "source": [
    "data = gd.load_data()\n",
    "repos = data[\"repos\"]\n",
    "most_committed = data[\"most_committed\"]\n",
    "stargazers = data[\"stargazers\"]\n",
    "all_commit_dates = data[\"all_commit_dates\"]\n",
    "day_hist = data[\"day_hist\"]\n",
    "hour_hist = data[\"hour_hist\"]"
   ]
  },
  {
   "cell_type": "markdown",
   "metadata": {},
   "source": [
    "## Number of stars ⭐️"
   ]
  },
  {
   "cell_type": "code",
   "execution_count": null,
   "metadata": {},
   "outputs": [],
   "source": [
    "most_stars_strs = [\n",
    "    f\"{i+1}. [{repo['full_name']}](https://github.com/{repo['full_name']}/), {repo['stargazers_count']} ⭐️s\"\n",
    "    for i, repo in enumerate(stargazers[:20])\n",
    "]\n",
    "\n",
    "most_stars_strs_summary, most_stars_strs_rest = gd.split(most_stars_strs, 5)"
   ]
  },
  {
   "cell_type": "code",
   "execution_count": null,
   "metadata": {},
   "outputs": [],
   "source": [
    "fig, ax = plt.subplots(figsize=(7, 5))\n",
    "ax.set_xlabel(\"Year\")\n",
    "ax.set_ylabel(\"Cumulative number of stars\")\n",
    "ax.set_title(\"Total number of stars over time\")\n",
    "\n",
    "for star_info in stargazers:\n",
    "    dates = star_info[\"dates\"]\n",
    "    n_stars = list(range(1, len(dates) + 1))\n",
    "    ax.plot(dates, n_stars, label=star_info[\"full_name\"])\n",
    "mplcyberpunk.add_glow_effects()\n",
    "plt.savefig(\"stars_over_time_per_repo.png\")"
   ]
  },
  {
   "cell_type": "code",
   "execution_count": null,
   "metadata": {},
   "outputs": [],
   "source": [
    "all_dates = sorted([date for star_info in stargazers for date in star_info[\"dates\"]])\n",
    "n_stars = list(range(1, len(all_dates) + 1))\n",
    "\n",
    "fig, ax = plt.subplots(figsize=(7, 5))\n",
    "ax.plot(all_dates, n_stars)\n",
    "ax.set_xlabel(\"Year\")\n",
    "ax.set_ylabel(\"Cumulative number of stars\")\n",
    "ax.set_title(\"Total number of stars over time\")\n",
    "mplcyberpunk.add_glow_effects()\n",
    "plt.savefig(\"stars_over_time.png\")"
   ]
  },
  {
   "cell_type": "code",
   "execution_count": null,
   "metadata": {},
   "outputs": [],
   "source": [
    "# gd.to_plotly_json()\n",
    "\n",
    "# import plotly.graph_objs as go\n",
    "# from plotly.subplots import make_subplots\n",
    "\n",
    "# with open(\"data/traces_data.json\", \"r\") as infile:\n",
    "#     traces_data = json.load(infile)\n",
    "# fig = make_subplots()\n",
    "# for trace_data in traces_data:\n",
    "#     trace = go.Scatter(**trace_data)\n",
    "#     fig.add_trace(trace)\n",
    "# fig.update_layout(\n",
    "#     title=\"Cumulative number of stars over time\",\n",
    "#     xaxis_title=\"Date\",\n",
    "#     yaxis_title=\"Number of stars\",\n",
    "# )\n",
    "# fig.show()\n"
   ]
  },
  {
   "cell_type": "markdown",
   "metadata": {},
   "source": [
    "## Number of commits "
   ]
  },
  {
   "cell_type": "code",
   "execution_count": null,
   "metadata": {},
   "outputs": [],
   "source": [
    "most_committed_strs = [\n",
    "    f\"{i+1}. [{full_name}](https://github.com/{full_name}/), {n_commits} commits :octocat:\"\n",
    "    for i, (full_name, n_commits) in enumerate(most_committed[:20])\n",
    "]\n",
    "\n",
    "most_committed_strs_summary, most_committed_strs_rest = gd.split(most_committed_strs, 5)\n",
    "most_committed_strs"
   ]
  },
  {
   "cell_type": "markdown",
   "metadata": {},
   "source": [
    "## Commit stats"
   ]
  },
  {
   "cell_type": "code",
   "execution_count": null,
   "metadata": {},
   "outputs": [],
   "source": [
    "fig, ax = plt.subplots(figsize=(9, 5))\n",
    "bars = ax.bar(*zip(*day_hist), color=[f\"C{i}\" for i in range(7)])\n",
    "ax.set_xlabel(\"Day of the week\")\n",
    "ax.set_ylabel(\"Total number of commits\")\n",
    "ax.set_title(\"Commits by day\")\n",
    "mplcyberpunk.add_bar_gradient(bars=bars)\n",
    "plt.savefig(\"commits_per_weekday.png\")"
   ]
  },
  {
   "cell_type": "code",
   "execution_count": null,
   "metadata": {},
   "outputs": [],
   "source": [
    "hour_hist = [\n",
    "    (f\"{i:02d}\", n)\n",
    "    for i, n in sorted(Counter([d.hour for d in all_commit_dates]).items())\n",
    "]\n",
    "\n",
    "fig, ax = plt.subplots(figsize=(9, 5))\n",
    "bars = ax.bar(*zip(*hour_hist))\n",
    "ax.set_xlabel(\"Hour of the day\")\n",
    "ax.set_ylabel(\"number of commits\")\n",
    "ax.set_title(\"Commits by hour\")\n",
    "mplcyberpunk.add_bar_gradient(bars=bars)\n",
    "plt.savefig(\"commits_per_hour.png\")"
   ]
  },
  {
   "cell_type": "markdown",
   "metadata": {},
   "source": [
    "## Render template"
   ]
  },
  {
   "cell_type": "code",
   "execution_count": null,
   "metadata": {},
   "outputs": [],
   "source": [
    "with open(\"README.jinja2\", \"r\") as f:\n",
    "  template = f.read()\n",
    "txt = jinja2.Template(template).render(\n",
    "    most_stars_strs_summary=most_stars_strs_summary,\n",
    "    most_stars_strs_rest=most_stars_strs_rest,\n",
    "    most_committed_strs_summary=most_committed_strs_summary,\n",
    "    most_committed_strs_rest=most_committed_strs_rest,\n",
    "    now=str(datetime.now()),\n",
    ")\n",
    "with open(\"README.md\", \"w\") as f:\n",
    "    f.write(txt)\n",
    "print(txt)"
   ]
  }
 ],
 "metadata": {
  "language_info": {
   "name": "python",
   "pygments_lexer": "ipython3"
  }
 },
 "nbformat": 4,
 "nbformat_minor": 4
}
