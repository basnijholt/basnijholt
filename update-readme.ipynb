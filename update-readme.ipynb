{
 "cells": [
  {
   "cell_type": "markdown",
   "metadata": {},
   "source": [
    "# Notebook that generates my README"
   ]
  },
  {
   "cell_type": "code",
   "execution_count": null,
   "metadata": {},
   "outputs": [],
   "source": [
    "import json\n",
    "\n",
    "from collections import Counter\n",
    "from datetime import datetime\n",
    "import jinja2\n",
    "import matplotlib.pyplot as plt\n",
    "import matplotlib\n",
    "import generate_data as gd\n",
    "\n",
    "plt.xkcd()\n",
    "matplotlib.rcParams.update({\"font.family\": [\"Humor Sans\"]})  # avoids findfont warnings"
   ]
  },
  {
   "cell_type": "code",
   "execution_count": null,
   "metadata": {},
   "outputs": [],
   "source": [
    "_ = await gd.generate_data()"
   ]
  },
  {
   "cell_type": "code",
   "execution_count": null,
   "metadata": {},
   "outputs": [],
   "source": [
    "with open(\"data/repos.json\", \"r\") as f:\n",
    "    repos = json.load(f)\n",
    "\n",
    "with open(\"data/most_stars.json\", \"r\") as f:\n",
    "    most_stars = json.load(f)\n",
    "\n",
    "with open(\"data/most_committed.json\", \"r\") as f:\n",
    "    most_committed = json.load(f)\n",
    "\n",
    "with open(\"data/stargazers.json\", \"r\") as f:\n",
    "    stargazers = json.load(f)\n",
    "\n",
    "with open(\"data/all_commit_dates.json\", \"r\") as f:\n",
    "    all_commit_dates = [datetime.fromisoformat(date) for date in json.load(f)]\n",
    "\n",
    "with open(\"data/day_hist.json\", \"r\") as f:\n",
    "    day_hist = json.load(f)\n",
    "\n",
    "with open(\"data/hour_hist.json\", \"r\") as f:\n",
    "    hour_hist = json.load(f)"
   ]
  },
  {
   "cell_type": "markdown",
   "metadata": {},
   "source": [
    "## Number of stars ⭐️"
   ]
  },
  {
   "cell_type": "code",
   "execution_count": null,
   "metadata": {},
   "outputs": [],
   "source": [
    "most_stars_strs = [\n",
    "    f\"{i+1}. [{repo['full_name']}](https://github.com/{repo['full_name']}/), {repo['stargazers_count']} ⭐️s\"\n",
    "    for i, repo in enumerate(most_stars[:20])\n",
    "]\n",
    "\n",
    "most_stars_strs_summary, most_stars_strs_rest = gd.split(most_stars_strs, 5)"
   ]
  },
  {
   "cell_type": "code",
   "execution_count": null,
   "metadata": {},
   "outputs": [],
   "source": [
    "fig, ax = plt.subplots(figsize=(7, 5))\n",
    "ax.set_xlabel(\"Year\")\n",
    "ax.set_ylabel(\"Cumulative number of stars\")\n",
    "ax.set_title(\"Total number of stars over time\")\n",
    "\n",
    "for r, stars in zip(most_stars, stargazers):\n",
    "    n_stars = list(range(1, len(stars) + 1))\n",
    "    ax.plot(stars, n_stars, label=r[\"full_name\"])\n",
    "plt.savefig(\"stars_over_time.png\")"
   ]
  },
  {
   "cell_type": "code",
   "execution_count": null,
   "metadata": {},
   "outputs": [],
   "source": [
    "dts = sorted(sum(stargazers, []))\n",
    "n_stars = list(range(1, len(dts) + 1))\n",
    "\n",
    "fig, ax = plt.subplots(figsize=(7, 5))\n",
    "n_stars = list(range(1, len(dts) + 1))\n",
    "ax.plot(dts, n_stars)\n",
    "ax.set_xlabel(\"Year\")\n",
    "ax.set_ylabel(\"Cumulative number of stars\")\n",
    "ax.set_title(\"Total number of stars over time\")\n",
    "plt.savefig(\"stars_over_time.png\")"
   ]
  },
  {
   "cell_type": "markdown",
   "metadata": {},
   "source": [
    "## Number of commits "
   ]
  },
  {
   "cell_type": "code",
   "execution_count": null,
   "metadata": {},
   "outputs": [],
   "source": [
    "most_committed_strs = [\n",
    "    f\"{i+1}. [{full_name}](https://github.com/{full_name}/), {n_commits} commits :octocat:\"\n",
    "    for i, (full_name, n_commits) in enumerate(most_committed[:20])\n",
    "]\n",
    "\n",
    "most_committed_strs_summary, most_committed_strs_rest = split(most_committed_strs, 5)"
   ]
  },
  {
   "cell_type": "markdown",
   "metadata": {},
   "source": [
    "## Commit stats"
   ]
  },
  {
   "cell_type": "code",
   "execution_count": null,
   "metadata": {},
   "outputs": [],
   "source": [
    "fig, ax = plt.subplots(figsize=(9, 5))\n",
    "ax.bar(*zip(*day_hist))\n",
    "ax.set_xlabel(\"Day of the week\")\n",
    "ax.set_ylabel(\"Total number of commits\")\n",
    "ax.set_title(\"Commits by day\")\n",
    "plt.savefig(\"commits_per_weekday.png\")"
   ]
  },
  {
   "cell_type": "code",
   "execution_count": null,
   "metadata": {},
   "outputs": [],
   "source": [
    "hour_hist = [\n",
    "    (f\"{i:02d}\", n)\n",
    "    for i, n in sorted(Counter([d.hour for d in all_commit_dates]).items())\n",
    "]"
   ]
  },
  {
   "cell_type": "code",
   "execution_count": null,
   "metadata": {},
   "outputs": [],
   "source": [
    "fig, ax = plt.subplots(figsize=(9, 5))\n",
    "ax.bar(*zip(*hour_hist))\n",
    "ax.set_xlabel(\"Hour of the day\")\n",
    "ax.set_ylabel(\"number of commits\")\n",
    "ax.set_title(\"Commits by hour\")\n",
    "plt.savefig(\"commits_per_hour.png\")"
   ]
  },
  {
   "cell_type": "markdown",
   "metadata": {},
   "source": [
    "## Render template"
   ]
  },
  {
   "cell_type": "code",
   "execution_count": null,
   "metadata": {},
   "outputs": [],
   "source": [
    "template = \"\"\"### Welcome to my profile 👋\n",
    "\n",
    "<center>\n",
    "  <table>\n",
    "    <tr>\n",
    "        <td><img width=\"300px\" align=\"left\" src=\"https://github-readme-stats.vercel.app/api/top-langs/?username=basnijholt&hide=TeX,Jupyter%20Notebook&layout=compact&theme=radical\" /></td>\n",
    "        <td><img align='right' src=\"https://github-readme-stats.vercel.app/api?username=basnijholt&show_icons=true&theme=radical\" width=\"380\"></td>\n",
    "    </tr>\n",
    "  </table>\n",
    "</center>\n",
    "\n",
    "![visitors](https://visitor-badge.glitch.me/badge?page_id=basnijholt.visitor-badge)\n",
    "\n",
    "I am Bas. Here I present some (automatically generated) statistics about my activity on GitHub. For more info check out my website [www.nijho.lt](http://nijho.lt/).\n",
    "\n",
    "![](https://www.nijho.lt/authors/admin/avatar_hu9e60e4b9bc120dfb6a666009f2878da6_182107_250x250_fill_q90_lanczos_center.jpg)\n",
    "\n",
    "- 💬 Ask me about Python, home-automation, landscape photography, and quantum physics\n",
    "- 📫 How to reach me: bas@nijho.lt\n",
    "\n",
    "Last updated at {{ now }}.\n",
    "\n",
    "# GitHub statistics — my top 20\n",
    "\n",
    "## number of GitHub stars ⭐️\n",
    "\n",
    "{{ \"\\n\".join(most_stars_strs_summary) }}\n",
    "<details><summary>Click to expand!</summary>\n",
    "\n",
    "{{ \"\\n\".join(most_stars_strs_rest) }}\n",
    "\n",
    "</details>\n",
    "\n",
    "![](https://github.com/basnijholt/basnijholt/raw/main/stars_over_time.png)\n",
    "\n",
    "## number of commits :octocat:\n",
    "\n",
    "{{ \"\\n\".join(most_committed_strs_summary) }}\n",
    "<details><summary>Click to expand!</summary>\n",
    "\n",
    "{{ \"\\n\".join(most_committed_strs_rest) }}\n",
    "\n",
    "</details>\n",
    "\n",
    "![](https://github.com/basnijholt/basnijholt/raw/main/commits_per_hour.png)\n",
    "\n",
    "![](https://github.com/basnijholt/basnijholt/raw/main/commits_per_weekday.png)\n",
    "\n",
    "\n",
    "\"\"\"\n",
    "txt = jinja2.Template(template).render(\n",
    "    most_stars_strs_summary=most_stars_strs_summary,\n",
    "    most_stars_strs_rest=most_stars_strs_rest,\n",
    "    most_committed_strs_summary=most_committed_strs_summary,\n",
    "    most_committed_strs_rest=most_committed_strs_rest,\n",
    "    now=str(datetime.now()),\n",
    ")\n",
    "with open(\"README.md\", \"w\") as f:\n",
    "    f.write(txt)\n",
    "print(txt)"
   ]
  }
 ],
 "metadata": {
  "language_info": {
   "name": "python",
   "pygments_lexer": "ipython3"
  }
 },
 "nbformat": 4,
 "nbformat_minor": 4
}
