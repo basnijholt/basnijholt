{
 "cells": [
  {
   "cell_type": "markdown",
   "metadata": {},
   "source": [
    "# Notebook that generates my README"
   ]
  },
  {
   "cell_type": "code",
   "execution_count": null,
   "metadata": {
    "execution": {
     "iopub.execute_input": "2021-05-20T12:05:32.230372Z",
     "iopub.status.busy": "2021-05-20T12:05:32.229708Z",
     "iopub.status.idle": "2021-05-20T12:05:41.429867Z",
     "shell.execute_reply": "2021-05-20T12:05:41.429007Z"
    }
   },
   "outputs": [],
   "source": [
    "import math\n",
    "import os\n",
    "from collections import Counter, defaultdict\n",
    "from datetime import datetime\n",
    "from functools import lru_cache\n",
    "from operator import attrgetter\n",
    "\n",
    "import jinja2\n",
    "import matplotlib.pyplot as plt\n",
    "from github import Github\n",
    "from tqdm import tqdm\n",
    "\n",
    "token_path = \".TOKEN\"\n",
    "if os.path.exists(token_path):\n",
    "    with open(token_path) as f:\n",
    "        token = f.read().strip()\n",
    "else:\n",
    "    token = os.environ[\"TOKEN\"]\n",
    "\n",
    "g = Github(token)\n",
    "projects = [\"basnijholt\", \"python-adaptive\", \"topocm\", \"python-kasa\", \"kwant-project\"]\n",
    "repos = []\n",
    "for project in projects:\n",
    "    repos.extend(list(g.get_user(project).get_repos()))\n",
    "\n",
    "\n",
    "@lru_cache(maxsize=None)\n",
    "def get_n_commits(full_repo_name, user=\"basnijholt\"):\n",
    "    repo = get_repo(full_repo_name)\n",
    "    try:\n",
    "        return next(\n",
    "            s.total for s in repo.get_stats_contributors() if s.author.login == user\n",
    "        )\n",
    "    except StopIteration:\n",
    "        return float(\"nan\")\n",
    "    except TypeError:\n",
    "        return 0\n",
    "\n",
    "\n",
    "@lru_cache(maxsize=None)\n",
    "def get_repo(full_repo_name):\n",
    "    return g.get_repo(full_repo_name)\n",
    "\n",
    "\n",
    "@lru_cache(maxsize=None)\n",
    "def get_stargazers_with_dates(full_repo_name):\n",
    "    return list(get_repo(full_repo_name).get_stargazers_with_dates())\n",
    "\n",
    "\n",
    "@lru_cache(maxsize=None)\n",
    "def get_commits(full_repo_name, author=\"basnijholt\"):\n",
    "    repo = get_repo(full_repo_name)\n",
    "    return list(repo.get_commits(author=author))\n",
    "\n",
    "\n",
    "def split(x, at_index=5):\n",
    "    return x[:at_index], x[at_index:]"
   ]
  },
  {
   "cell_type": "markdown",
   "metadata": {},
   "source": [
    "## Number of stars ⭐️"
   ]
  },
  {
   "cell_type": "code",
   "execution_count": null,
   "metadata": {
    "execution": {
     "iopub.execute_input": "2021-05-20T12:05:41.436251Z",
     "iopub.status.busy": "2021-05-20T12:05:41.435714Z",
     "iopub.status.idle": "2021-05-20T12:05:41.440456Z",
     "shell.execute_reply": "2021-05-20T12:05:41.439898Z"
    }
   },
   "outputs": [],
   "source": [
    "mapping = defaultdict(list)\n",
    "for repo in repos:\n",
    "    namespace, name = repo.full_name.split(\"/\", 1)\n",
    "    mapping[namespace].append(repo)\n",
    "\n",
    "most_stars = sorted(\n",
    "    (repo for project in projects for repo in mapping[project]),\n",
    "    key=attrgetter(\"stargazers_count\"),\n",
    "    reverse=True,\n",
    ")\n",
    "\n",
    "most_stars_strs = [\n",
    "    f\"{i+1}. [{repo.full_name}](https://github.com/{repo.full_name}/), {repo.stargazers_count} ⭐️s\"\n",
    "    for i, repo in enumerate(most_stars[:20])\n",
    "]\n",
    "\n",
    "most_stars_strs_summary, most_stars_strs_rest = split(most_stars_strs, 5)"
   ]
  },
  {
   "cell_type": "markdown",
   "metadata": {},
   "source": [
    "## Number of commits "
   ]
  },
  {
   "cell_type": "code",
   "execution_count": null,
   "metadata": {
    "execution": {
     "iopub.execute_input": "2021-05-20T12:05:41.445891Z",
     "iopub.status.busy": "2021-05-20T12:05:41.445352Z",
     "iopub.status.idle": "2021-05-20T12:14:42.418896Z",
     "shell.execute_reply": "2021-05-20T12:14:42.419300Z"
    }
   },
   "outputs": [],
   "source": [
    "most_committed = []\n",
    "for repo in tqdm(repos):\n",
    "    full_name = repo.full_name if not repo.fork else repo.source.full_name\n",
    "    if full_name == \"regro/cf-graph-countyfair\":\n",
    "        # https://github.com/PyGithub/PyGithub/issues/1599\n",
    "        continue\n",
    "    n_commits = get_n_commits(full_name)\n",
    "    if not math.isnan(n_commits):\n",
    "        most_committed.append((full_name, n_commits))\n",
    "\n",
    "most_committed = sorted(set(most_committed), key=lambda x: x[1], reverse=True)\n",
    "\n",
    "most_committed_strs = [\n",
    "    f\"{i+1}. [{full_name}](https://github.com/{full_name}/), {n_commits} commits :octocat:\"\n",
    "    for i, (full_name, n_commits) in enumerate(most_committed[:20])\n",
    "]\n",
    "\n",
    "most_committed_strs_summary, most_committed_strs_rest = split(most_committed_strs, 5)"
   ]
  },
  {
   "cell_type": "code",
   "execution_count": null,
   "metadata": {
    "execution": {
     "iopub.execute_input": "2021-05-20T12:14:42.424895Z",
     "iopub.status.busy": "2021-05-20T12:14:42.424243Z",
     "iopub.status.idle": "2021-05-20T12:15:12.806313Z",
     "shell.execute_reply": "2021-05-20T12:15:12.805370Z"
    }
   },
   "outputs": [],
   "source": [
    "stargazers = []\n",
    "for repo in tqdm(most_stars[:20]):\n",
    "    stargazers.extend(get_stargazers_with_dates(repo.full_name))\n",
    "\n",
    "stargazers = sorted(stargazers, key=lambda sg: sg.starred_at)\n",
    "\n",
    "dts = [sg.starred_at for sg in stargazers]\n",
    "n_stars = list(range(1, len(dts) + 1))"
   ]
  },
  {
   "cell_type": "code",
   "execution_count": null,
   "metadata": {
    "execution": {
     "iopub.execute_input": "2021-05-20T12:15:12.827126Z",
     "iopub.status.busy": "2021-05-20T12:15:12.810805Z",
     "iopub.status.idle": "2021-05-20T12:15:13.147252Z",
     "shell.execute_reply": "2021-05-20T12:15:13.147657Z"
    }
   },
   "outputs": [],
   "source": [
    "plt.xkcd()\n",
    "fig, ax = plt.subplots(figsize=(7, 5))\n",
    "ax.plot(dts, n_stars)\n",
    "ax.set_xlabel(\"Year\")\n",
    "ax.set_ylabel(\"Cumulative number of stars\")\n",
    "ax.set_title(\"Total number of stars over time\")\n",
    "plt.savefig(\"stars_over_time.png\")"
   ]
  },
  {
   "cell_type": "markdown",
   "metadata": {},
   "source": [
    "## Commit stats"
   ]
  },
  {
   "cell_type": "code",
   "execution_count": null,
   "metadata": {
    "execution": {
     "iopub.execute_input": "2021-05-20T12:15:13.151906Z",
     "iopub.status.busy": "2021-05-20T12:15:13.151285Z",
     "iopub.status.idle": "2021-05-20T12:16:24.689361Z",
     "shell.execute_reply": "2021-05-20T12:16:24.688680Z"
    }
   },
   "outputs": [],
   "source": [
    "all_commits = [get_commits(full_name) for full_name, _ in tqdm(most_committed[:30])]\n",
    "all_commits = sum(all_commits, [])\n",
    "all_commit_dates = [c.commit.author.date for c in all_commits]"
   ]
  },
  {
   "cell_type": "code",
   "execution_count": null,
   "metadata": {
    "execution": {
     "iopub.execute_input": "2021-05-20T12:16:24.695771Z",
     "iopub.status.busy": "2021-05-20T12:16:24.694519Z",
     "iopub.status.idle": "2021-05-20T12:16:24.696365Z",
     "shell.execute_reply": "2021-05-20T12:16:24.696917Z"
    }
   },
   "outputs": [],
   "source": [
    "weekdays = [\n",
    "    \"Monday\",\n",
    "    \"Tuesday\",\n",
    "    \"Wednesday\",\n",
    "    \"Thursday\",\n",
    "    \"Friday\",\n",
    "    \"Saturday\",\n",
    "    \"Sunday\",\n",
    "]\n",
    "day_hist = [\n",
    "    (weekdays[i], n)\n",
    "    for i, n in sorted(Counter([d.weekday() for d in all_commit_dates]).items())\n",
    "]"
   ]
  },
  {
   "cell_type": "code",
   "execution_count": null,
   "metadata": {
    "execution": {
     "iopub.execute_input": "2021-05-20T12:16:24.734447Z",
     "iopub.status.busy": "2021-05-20T12:16:24.731444Z",
     "iopub.status.idle": "2021-05-20T12:16:25.018545Z",
     "shell.execute_reply": "2021-05-20T12:16:25.017265Z"
    }
   },
   "outputs": [],
   "source": [
    "plt.xkcd()\n",
    "fig, ax = plt.subplots(figsize=(9, 5))\n",
    "ax.bar(*zip(*day_hist))\n",
    "ax.set_xlabel(\"Day of the week\")\n",
    "ax.set_ylabel(\"Total number of commits\")\n",
    "ax.set_title(\"Commits by day\")\n",
    "plt.savefig(\"commits_per_weekday.png\")"
   ]
  },
  {
   "cell_type": "code",
   "execution_count": null,
   "metadata": {
    "execution": {
     "iopub.execute_input": "2021-05-20T12:16:25.022095Z",
     "iopub.status.busy": "2021-05-20T12:16:25.021617Z",
     "iopub.status.idle": "2021-05-20T12:16:25.027292Z",
     "shell.execute_reply": "2021-05-20T12:16:25.026803Z"
    }
   },
   "outputs": [],
   "source": [
    "hour_hist = [\n",
    "    (f\"{i:02d}\", n)\n",
    "    for i, n in sorted(Counter([d.hour for d in all_commit_dates]).items())\n",
    "]"
   ]
  },
  {
   "cell_type": "code",
   "execution_count": null,
   "metadata": {
    "execution": {
     "iopub.execute_input": "2021-05-20T12:16:25.064773Z",
     "iopub.status.busy": "2021-05-20T12:16:25.059710Z",
     "iopub.status.idle": "2021-05-20T12:16:25.525354Z",
     "shell.execute_reply": "2021-05-20T12:16:25.524885Z"
    }
   },
   "outputs": [],
   "source": [
    "plt.xkcd()\n",
    "fig, ax = plt.subplots(figsize=(9, 5))\n",
    "ax.bar(*zip(*hour_hist))\n",
    "ax.set_xlabel(\"Hour of the day\")\n",
    "ax.set_ylabel(\"number of commits\")\n",
    "ax.set_title(\"Commits by hour\")\n",
    "plt.savefig(\"commits_per_hour.png\")"
   ]
  },
  {
   "cell_type": "markdown",
   "metadata": {},
   "source": [
    "## Render template"
   ]
  },
  {
   "cell_type": "code",
   "execution_count": null,
   "metadata": {
    "execution": {
     "iopub.execute_input": "2021-05-20T12:16:25.532203Z",
     "iopub.status.busy": "2021-05-20T12:16:25.531711Z",
     "iopub.status.idle": "2021-05-20T12:16:25.539126Z",
     "shell.execute_reply": "2021-05-20T12:16:25.539485Z"
    }
   },
   "outputs": [],
   "source": [
    "template = \"\"\"### Welcome to my profile 👋\n",
    "\n",
    "<center>\n",
    "  <table>\n",
    "    <tr>\n",
    "        <td><img width=\"300px\" align=\"left\" src=\"https://github-readme-stats.vercel.app/api/top-langs/?username=basnijholt&hide=TeX,Jupyter%20Notebook&layout=compact&theme=radical\" /></td>\n",
    "        <td><img align='right' src=\"https://github-readme-stats.vercel.app/api?username=basnijholt&show_icons=true&theme=radical\" width=\"380\"></td>\n",
    "    </tr>\n",
    "  </table>\n",
    "</center>\n",
    "\n",
    "![visitors](https://visitor-badge.glitch.me/badge?page_id=basnijholt.visitor-badge)\n",
    "\n",
    "I am Bas. Here I present some (automatically generated) statistics about my activity on GitHub. For more info check out my website [www.nijho.lt](http://nijho.lt/).\n",
    "\n",
    "![](https://www.nijho.lt/authors/admin/avatar_hu9e60e4b9bc120dfb6a666009f2878da6_182107_250x250_fill_q90_lanczos_center.jpg)\n",
    "\n",
    "- 💬 Ask me about Python, home-automation, landscape photography, and quantum physics\n",
    "- 📫 How to reach me: bas@nijho.lt\n",
    "\n",
    "Last updated at {{ now }}.\n",
    "\n",
    "# GitHub statistics — my top 20\n",
    "\n",
    "## number of GitHub stars ⭐️\n",
    "\n",
    "{{ \"\\n\".join(most_stars_strs_summary) }}\n",
    "<details><summary>Click to expand!</summary>\n",
    "\n",
    "{{ \"\\n\".join(most_stars_strs_rest) }}\n",
    "\n",
    "</details>\n",
    "\n",
    "![](https://github.com/basnijholt/basnijholt/raw/master/stars_over_time.png)\n",
    "\n",
    "## number of commits :octocat:\n",
    "\n",
    "{{ \"\\n\".join(most_committed_strs_summary) }}\n",
    "<details><summary>Click to expand!</summary>\n",
    "\n",
    "{{ \"\\n\".join(most_committed_strs_rest) }}\n",
    "\n",
    "</details>\n",
    "\n",
    "![](https://github.com/basnijholt/basnijholt/raw/master/commits_per_hour.png)\n",
    "\n",
    "![](https://github.com/basnijholt/basnijholt/raw/master/commits_per_weekday.png)\n",
    "\n",
    "\n",
    "\"\"\"\n",
    "txt = jinja2.Template(template).render(\n",
    "    most_stars_strs_summary=most_stars_strs_summary,\n",
    "    most_stars_strs_rest=most_stars_strs_rest,\n",
    "    most_committed_strs_summary=most_committed_strs_summary,\n",
    "    most_committed_strs_rest=most_committed_strs_rest,\n",
    "    now=str(datetime.now()),\n",
    ")\n",
    "with open(\"README.md\", \"w\") as f:\n",
    "    f.write(txt)\n",
    "print(txt)"
   ]
  }
 ],
 "metadata": {
  "language_info": {
   "name": "python",
   "pygments_lexer": "ipython3"
  }
 },
 "nbformat": 4,
 "nbformat_minor": 4
}
